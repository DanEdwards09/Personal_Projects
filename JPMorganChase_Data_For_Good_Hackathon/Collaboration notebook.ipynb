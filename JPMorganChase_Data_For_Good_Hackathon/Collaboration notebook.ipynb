{
 "cells": [
  {
   "cell_type": "markdown",
   "id": "6606736e-d6b9-410f-aad5-a105c9145e54",
   "metadata": {},
   "source": [
    "- other is the 2nd largest field study for students\n",
    "- 1s year is the most common study level\n",
    "- correlation between numerical features doesn't bring any significant insights\n",
    "- a lof of NaN values across the dataset\n",
    "- Khee is doing EDA"
   ]
  },
  {
   "cell_type": "markdown",
   "id": "5251662f-4450-4a66-bf0c-510c44624845",
   "metadata": {},
   "source": [
    "# Charts\n",
    "Feel free to add any useful charts below"
   ]
  },
  {
   "cell_type": "code",
   "execution_count": null,
   "id": "c5eda043-66ed-41e5-a681-173daf24af70",
   "metadata": {},
   "outputs": [],
   "source": []
  }
 ],
 "metadata": {
  "kernelspec": {
   "display_name": "Python 3 (ipykernel)",
   "language": "python",
   "name": "python3"
  },
  "language_info": {
   "codemirror_mode": {
    "name": "ipython",
    "version": 3
   },
   "file_extension": ".py",
   "mimetype": "text/x-python",
   "name": "python",
   "nbconvert_exporter": "python",
   "pygments_lexer": "ipython3",
   "version": "3.10.10"
  }
 },
 "nbformat": 4,
 "nbformat_minor": 5
}
