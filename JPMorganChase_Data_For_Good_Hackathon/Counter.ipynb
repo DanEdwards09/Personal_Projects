{
 "cells": [
  {
   "cell_type": "markdown",
   "id": "8151ae07-0bf9-4ea9-af42-ecdc49473aa1",
   "metadata": {},
   "source": [
    "Counting number of students in a certain category\n",
    "\n",
    "supply table and table name"
   ]
  },
  {
   "cell_type": "code",
   "execution_count": 1,
   "id": "64a83464-daef-4273-b4a4-aa14f4f2d17f",
   "metadata": {
    "tags": []
   },
   "outputs": [],
   "source": [
    "#Counts the frequency of an element in all columns\n",
    "def count(table_name, table_data):\n",
    "    count_field = {}\n",
    "    for col in table_data.columns:\n",
    "        count_field[col] = {}\n",
    "    \n",
    "    \n",
    "        \n",
    "    for i in range(len(table_data)):\n",
    "        x = table_data.iloc[i]\n",
    "        for i in x.index:\n",
    "            if x[i] in count_field[i]:\n",
    "                count_field[i][x[i]] += 1\n",
    "            else:\n",
    "                count_field[i][x[i]]  = 1\n",
    "        \n",
    "    return count_field\n",
    "\n",
    "#Ranks a dictionary by value\n",
    "def rank_dictionary(dic):\n",
    "    dic_view = [ (v,k) for k,v in dic.items() ]\n",
    "    dic_view.sort(reverse=True) # natively sort tuples by first element\n",
    "    for v,k in dic_view:\n",
    "        print(\"%s: %d\" % (k,v))"
   ]
  }
 ],
 "metadata": {
  "kernelspec": {
   "display_name": "Python 3 (ipykernel)",
   "language": "python",
   "name": "python3"
  },
  "language_info": {
   "codemirror_mode": {
    "name": "ipython",
    "version": 3
   },
   "file_extension": ".py",
   "mimetype": "text/x-python",
   "name": "python",
   "nbconvert_exporter": "python",
   "pygments_lexer": "ipython3",
   "version": "3.10.10"
  }
 },
 "nbformat": 4,
 "nbformat_minor": 5
}
