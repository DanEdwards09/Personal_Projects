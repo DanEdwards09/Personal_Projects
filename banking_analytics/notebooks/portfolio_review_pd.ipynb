{
  "cells": [
    {
      "cell_type": "markdown",
      "id": "e35ca797",
      "metadata": {},
      "source": [
        "# Portfolio Review (90 Days) – Notebook\n",
        "\n",
        "**Goal:** Assess revenue, loyalty, and risk signals by region/segment. Prepare 3–4 charts and a 200–300 word summary."
      ]
    },
    {
      "cell_type": "code",
      "execution_count": 1,
      "id": "0796fe32",
      "metadata": {},
      "outputs": [
        {
          "data": {
            "text/plain": [
              "(  account_id customer_id account_type  open_date  join_date region  age  \\\n",
              " 0    A000001      C00001      Current 2025-01-31 2025-01-31  North   46   \n",
              " 1    A000002      C00001      Savings 2025-01-31 2025-01-31  North   46   \n",
              " 2    A000003      C00001   CreditCard 2025-01-31 2025-01-31  North   46   \n",
              " 3    A000004      C00002      Savings 2024-05-10 2024-05-10  North   31   \n",
              " 4    A000005      C00003      Current 2025-02-04 2025-02-04  South   32   \n",
              " \n",
              "    annual_income  segment  tenure_days  \n",
              " 0       34879.27  Premier          252  \n",
              " 1       34879.27  Premier          252  \n",
              " 2       34879.27  Premier          252  \n",
              " 3       29433.18      SME          518  \n",
              " 4       48751.53   Retail          248  ,\n",
              "   transaction_id account_id   txn_date category channel   amount customer_id  \\\n",
              " 0       T0000001    A000001 2025-02-18      ATM  Mobile   -44.06      C00001   \n",
              " 1       T0000002    A000001 2025-02-15   Online     ATM   -47.39      C00001   \n",
              " 2       T0000003    A000001 2025-07-25      Fee  Mobile    -5.00      C00001   \n",
              " 3       T0000004    A000001 2025-06-19   Salary     Web  1706.12      C00001   \n",
              " 4       T0000005    A000001 2025-02-20      POS  Mobile   -86.46      C00001   \n",
              " \n",
              "   account_type region  segment  age  \n",
              " 0      Current  North  Premier   46  \n",
              " 1      Current  North  Premier   46  \n",
              " 2      Current  North  Premier   46  \n",
              " 3      Current  North  Premier   46  \n",
              " 4      Current  North  Premier   46  )"
            ]
          },
          "execution_count": 1,
          "metadata": {},
          "output_type": "execute_result"
        }
      ],
      "source": [
        "import pandas as pd\n",
        "from datetime import datetime, timedelta\n",
        "\n",
        "DATA_DIR = '../'\n",
        "customers = pd.read_csv(DATA_DIR + 'customers.csv', parse_dates=['join_date'])\n",
        "accounts = pd.read_csv(DATA_DIR + 'accounts.csv', parse_dates=['open_date'])\n",
        "transactions = pd.read_csv(DATA_DIR + 'transactions.csv', parse_dates=['txn_date'])\n",
        "chargebacks = pd.read_csv(DATA_DIR + 'chargebacks.csv', parse_dates=['cb_date'])\n",
        "balances = pd.read_csv(DATA_DIR + 'monthly_balances.csv')\n",
        "churn = pd.read_csv(DATA_DIR + 'customer_churn.csv', parse_dates=['last_txn_date'])\n",
        "\n",
        "today = datetime(2025,10,10)\n",
        "cut90 = today - timedelta(days=90)\n",
        "cut30 = today - timedelta(days=30)\n",
        "\n",
        "# Join helpers\n",
        "cust_acct = accounts.merge(customers, on='customer_id', how='left')\n",
        "txn_full = transactions.merge(accounts[['account_id','customer_id','account_type']], on='account_id', how='left')\\\n",
        "                     .merge(customers[['customer_id','region','segment','age']], on='customer_id', how='left')\n",
        "\n",
        "# Save joined tables for future use\n",
        "cust_acct.to_csv('../cust_acct.csv', index = False)\n",
        "txn_full.to_csv('../txn_full.csv', index = False)\n",
        "cust_acct.head(), txn_full.head()\n"
      ]
    },
    {
      "cell_type": "markdown",
      "id": "50fbd6ef",
      "metadata": {},
      "source": [
        "## A) KPIs & Definitions\n",
        "1) Revenue last 90 days by region/segment.  \n",
        "2) Active customers (≥1 txn last 30d); Loyal (tenure ≥365d).  \n",
        "3) Top 10% customers by revenue - analysis  \n",
        "4) Refund analysis - monthly statistics.  \n",
        "5) Avg monthly ending balance.\n"
      ]
    },
    {
      "cell_type": "code",
      "execution_count": 129,
      "id": "2d6c2558",
      "metadata": {},
      "outputs": [
        {
          "name": "stdout",
          "output_type": "stream",
          "text": [
            "Revenue in the last 90 days:\n"
          ]
        },
        {
          "data": {
            "text/html": [
              "<div>\n",
              "<style scoped>\n",
              "    .dataframe tbody tr th:only-of-type {\n",
              "        vertical-align: middle;\n",
              "    }\n",
              "\n",
              "    .dataframe tbody tr th {\n",
              "        vertical-align: top;\n",
              "    }\n",
              "\n",
              "    .dataframe thead tr th {\n",
              "        text-align: left;\n",
              "    }\n",
              "\n",
              "    .dataframe thead tr:last-of-type th {\n",
              "        text-align: right;\n",
              "    }\n",
              "</style>\n",
              "<table border=\"1\" class=\"dataframe\">\n",
              "  <thead>\n",
              "    <tr>\n",
              "      <th></th>\n",
              "      <th></th>\n",
              "      <th></th>\n",
              "      <th colspan=\"3\" halign=\"left\">amount</th>\n",
              "    </tr>\n",
              "    <tr>\n",
              "      <th></th>\n",
              "      <th></th>\n",
              "      <th></th>\n",
              "      <th>sum</th>\n",
              "      <th>mean</th>\n",
              "      <th>count</th>\n",
              "    </tr>\n",
              "    <tr>\n",
              "      <th>region</th>\n",
              "      <th>segment</th>\n",
              "      <th>category</th>\n",
              "      <th></th>\n",
              "      <th></th>\n",
              "      <th></th>\n",
              "    </tr>\n",
              "  </thead>\n",
              "  <tbody>\n",
              "    <tr>\n",
              "      <th rowspan=\"6\" valign=\"top\">East</th>\n",
              "      <th rowspan=\"2\" valign=\"top\">Premier</th>\n",
              "      <th>Fee</th>\n",
              "      <td>-140.00</td>\n",
              "      <td>-15.555556</td>\n",
              "      <td>9</td>\n",
              "    </tr>\n",
              "    <tr>\n",
              "      <th>Interest</th>\n",
              "      <td>19.50</td>\n",
              "      <td>2.437500</td>\n",
              "      <td>8</td>\n",
              "    </tr>\n",
              "    <tr>\n",
              "      <th rowspan=\"2\" valign=\"top\">Retail</th>\n",
              "      <th>Fee</th>\n",
              "      <td>-555.00</td>\n",
              "      <td>-13.536585</td>\n",
              "      <td>41</td>\n",
              "    </tr>\n",
              "    <tr>\n",
              "      <th>Interest</th>\n",
              "      <td>122.72</td>\n",
              "      <td>2.611064</td>\n",
              "      <td>47</td>\n",
              "    </tr>\n",
              "    <tr>\n",
              "      <th rowspan=\"2\" valign=\"top\">SME</th>\n",
              "      <th>Fee</th>\n",
              "      <td>-25.00</td>\n",
              "      <td>-8.333333</td>\n",
              "      <td>3</td>\n",
              "    </tr>\n",
              "    <tr>\n",
              "      <th>Interest</th>\n",
              "      <td>5.92</td>\n",
              "      <td>1.973333</td>\n",
              "      <td>3</td>\n",
              "    </tr>\n",
              "    <tr>\n",
              "      <th rowspan=\"4\" valign=\"top\">North</th>\n",
              "      <th rowspan=\"2\" valign=\"top\">Premier</th>\n",
              "      <th>Fee</th>\n",
              "      <td>-120.00</td>\n",
              "      <td>-12.000000</td>\n",
              "      <td>10</td>\n",
              "    </tr>\n",
              "    <tr>\n",
              "      <th>Interest</th>\n",
              "      <td>25.92</td>\n",
              "      <td>2.592000</td>\n",
              "      <td>10</td>\n",
              "    </tr>\n",
              "    <tr>\n",
              "      <th rowspan=\"2\" valign=\"top\">Retail</th>\n",
              "      <th>Fee</th>\n",
              "      <td>-740.00</td>\n",
              "      <td>-11.746032</td>\n",
              "      <td>63</td>\n",
              "    </tr>\n",
              "    <tr>\n",
              "      <th>Interest</th>\n",
              "      <td>93.52</td>\n",
              "      <td>2.280976</td>\n",
              "      <td>41</td>\n",
              "    </tr>\n",
              "  </tbody>\n",
              "</table>\n",
              "</div>"
            ],
            "text/plain": [
              "                         amount                 \n",
              "                            sum       mean count\n",
              "region segment category                         \n",
              "East   Premier Fee      -140.00 -15.555556     9\n",
              "               Interest   19.50   2.437500     8\n",
              "       Retail  Fee      -555.00 -13.536585    41\n",
              "               Interest  122.72   2.611064    47\n",
              "       SME     Fee       -25.00  -8.333333     3\n",
              "               Interest    5.92   1.973333     3\n",
              "North  Premier Fee      -120.00 -12.000000    10\n",
              "               Interest   25.92   2.592000    10\n",
              "       Retail  Fee      -740.00 -11.746032    63\n",
              "               Interest   93.52   2.280976    41"
            ]
          },
          "execution_count": 129,
          "metadata": {},
          "output_type": "execute_result"
        }
      ],
      "source": [
        "# 1) Revenue last 90 days\n",
        "# Filter by date\n",
        "today = pd.Timestamp.now()\n",
        "days_ago_90 = today - pd.Timedelta(days = 90)\n",
        "ninety_days_mask = txn_full['txn_date'].between(days_ago_90, today)\n",
        "ninety_days_filter = txn_full[ninety_days_mask]\n",
        "# Get revenue (generated from fees and interest)\n",
        "revenue_categories = ['Fee', 'Interest']\n",
        "revenue_mask = ninety_days_filter['category'].isin(revenue_categories)\n",
        "revenue = ninety_days_filter[revenue_mask]\n",
        "# Group by region and segment + basic metrics\n",
        "grouped_revenue = revenue.groupby(by = ['region', 'segment', 'category']).agg({'amount': ['sum', 'mean', 'count']}, {'transaction_id': 'count'})\n",
        "print('Revenue in the last 90 days:')\n",
        "grouped_revenue.head(10)"
      ]
    },
    {
      "cell_type": "code",
      "execution_count": null,
      "id": "f062c6ee",
      "metadata": {},
      "outputs": [
        {
          "name": "stdout",
          "output_type": "stream",
          "text": [
            "Number of active customers: 787\n",
            "Number of loyal customers: 664\n"
          ]
        }
      ],
      "source": [
        "# 2.1) Active customers\n",
        "days_ago_30 = today - pd.Timedelta(days = 30)\n",
        "thirty_days_mask = txn_full['txn_date'].between(days_ago_30, today)\n",
        "thirty_days_txn  = txn_full[thirty_days_mask]\n",
        "active_customer = thirty_days_txn['account_id'].unique()\n",
        "print(f'Number of active customers: {len(active_customer)}')\n",
        "\n",
        "# 2.2) Loyal customers\n",
        "loyalty_mask = cust_acct['tenure_days'] >= 365\n",
        "loyal_tenure = cust_acct[loyalty_mask]\n",
        "loyal_customers = loyal_tenure['customer_id'].unique()\n",
        "print(f'Number of loyal customers: {len(loyal_customers)}')"
      ]
    },
    {
      "cell_type": "code",
      "execution_count": 91,
      "id": "6baac870",
      "metadata": {},
      "outputs": [
        {
          "name": "stdout",
          "output_type": "stream",
          "text": [
            "Number of top customers (10%): 29\n",
            "Number of customers: 283\n",
            "Value threshold: £28.39\n",
            "Total value from top 10%: 1,077.93\n"
          ]
        }
      ],
      "source": [
        "# 3) Top 10% customers by revenue (90d) - grouped by segment\n",
        "revenue_df = revenue.copy()\n",
        "revenue_df.loc[:, 'amount'] = revenue_df['amount'].abs()\n",
        "customers_sorted = revenue_df.groupby(by = 'customer_id')['amount'].sum().sort_values(ascending = False)\n",
        "threshold = customers_sorted.quantile(0.9)\n",
        "top_customers = customers_sorted[customers_sorted > threshold]\n",
        "print(f'Number of top customers (10%): {len(top_customers)}')\n",
        "print(f'Number of customers: {len(customers_sorted)}')\n",
        "print(f'Value threshold: £{threshold:,.2f}')\n",
        "print(f'Total value from top 10%: {top_customers.sum():,.2f}')"
      ]
    },
    {
      "cell_type": "code",
      "execution_count": 128,
      "id": "315e7efc",
      "metadata": {},
      "outputs": [
        {
          "name": "stdout",
          "output_type": "stream",
          "text": [
            "Top Customer Profile:\n"
          ]
        },
        {
          "data": {
            "text/html": [
              "<div>\n",
              "<style scoped>\n",
              "    .dataframe tbody tr th:only-of-type {\n",
              "        vertical-align: middle;\n",
              "    }\n",
              "\n",
              "    .dataframe tbody tr th {\n",
              "        vertical-align: top;\n",
              "    }\n",
              "\n",
              "    .dataframe thead th {\n",
              "        text-align: right;\n",
              "    }\n",
              "</style>\n",
              "<table border=\"1\" class=\"dataframe\">\n",
              "  <thead>\n",
              "    <tr style=\"text-align: right;\">\n",
              "      <th></th>\n",
              "      <th>category</th>\n",
              "      <th>Fee</th>\n",
              "      <th>Interest</th>\n",
              "    </tr>\n",
              "    <tr>\n",
              "      <th>segment</th>\n",
              "      <th>region</th>\n",
              "      <th></th>\n",
              "      <th></th>\n",
              "    </tr>\n",
              "  </thead>\n",
              "  <tbody>\n",
              "    <tr>\n",
              "      <th rowspan=\"3\" valign=\"top\">Premier</th>\n",
              "      <th>East</th>\n",
              "      <td>2</td>\n",
              "      <td>1</td>\n",
              "    </tr>\n",
              "    <tr>\n",
              "      <th>North</th>\n",
              "      <td>2</td>\n",
              "      <td>1</td>\n",
              "    </tr>\n",
              "    <tr>\n",
              "      <th>West</th>\n",
              "      <td>2</td>\n",
              "      <td>0</td>\n",
              "    </tr>\n",
              "    <tr>\n",
              "      <th rowspan=\"4\" valign=\"top\">Retail</th>\n",
              "      <th>East</th>\n",
              "      <td>6</td>\n",
              "      <td>4</td>\n",
              "    </tr>\n",
              "    <tr>\n",
              "      <th>North</th>\n",
              "      <td>8</td>\n",
              "      <td>5</td>\n",
              "    </tr>\n",
              "    <tr>\n",
              "      <th>South</th>\n",
              "      <td>3</td>\n",
              "      <td>2</td>\n",
              "    </tr>\n",
              "    <tr>\n",
              "      <th>West</th>\n",
              "      <td>6</td>\n",
              "      <td>5</td>\n",
              "    </tr>\n",
              "  </tbody>\n",
              "</table>\n",
              "</div>"
            ],
            "text/plain": [
              "category        Fee  Interest\n",
              "segment region               \n",
              "Premier East      2         1\n",
              "        North     2         1\n",
              "        West      2         0\n",
              "Retail  East      6         4\n",
              "        North     8         5\n",
              "        South     3         2\n",
              "        West      6         5"
            ]
          },
          "execution_count": 128,
          "metadata": {},
          "output_type": "execute_result"
        }
      ],
      "source": [
        "# 3) Top customer profile\n",
        "top_customer_profile = revenue_df[revenue_df['customer_id'].isin(top_customers.index)].groupby(['segment', 'region', 'category'])['customer_id'].nunique().unstack(fill_value = 0)\n",
        "print('Top Customer Profile:')\n",
        "top_customer_profile.head(10)"
      ]
    },
    {
      "cell_type": "code",
      "execution_count": null,
      "id": "7689ab02",
      "metadata": {},
      "outputs": [
        {
          "ename": "SpecificationError",
          "evalue": "nested renamer is not supported",
          "output_type": "error",
          "traceback": [
            "\u001b[31m---------------------------------------------------------------------------\u001b[39m",
            "\u001b[31mSpecificationError\u001b[39m                        Traceback (most recent call last)",
            "\u001b[36mCell\u001b[39m\u001b[36m \u001b[39m\u001b[32mIn[126]\u001b[39m\u001b[32m, line 7\u001b[39m\n\u001b[32m      4\u001b[39m refund_mask = txn_full[\u001b[33m'\u001b[39m\u001b[33mcategory\u001b[39m\u001b[33m'\u001b[39m] == \u001b[33m'\u001b[39m\u001b[33mRefund\u001b[39m\u001b[33m'\u001b[39m\n\u001b[32m      6\u001b[39m \u001b[38;5;66;03m# Monthly stats\u001b[39;00m\n\u001b[32m----> \u001b[39m\u001b[32m7\u001b[39m monthly_refund_stats = \u001b[43mtxn_full\u001b[49m\u001b[43m.\u001b[49m\u001b[43mgroupby\u001b[49m\u001b[43m(\u001b[49m\u001b[43mpd\u001b[49m\u001b[43m.\u001b[49m\u001b[43mGrouper\u001b[49m\u001b[43m(\u001b[49m\u001b[43mkey\u001b[49m\u001b[43m \u001b[49m\u001b[43m=\u001b[49m\u001b[43m \u001b[49m\u001b[33;43m'\u001b[39;49m\u001b[33;43mtxn_date\u001b[39;49m\u001b[33;43m'\u001b[39;49m\u001b[43m,\u001b[49m\u001b[43m \u001b[49m\u001b[43mfreq\u001b[49m\u001b[43m \u001b[49m\u001b[43m=\u001b[49m\u001b[43m \u001b[49m\u001b[33;43m'\u001b[39;49m\u001b[33;43mME\u001b[39;49m\u001b[33;43m'\u001b[39;49m\u001b[43m)\u001b[49m\u001b[43m)\u001b[49m\u001b[43m.\u001b[49m\u001b[43magg\u001b[49m\u001b[43m(\u001b[49m\u001b[43m{\u001b[49m\n\u001b[32m      8\u001b[39m \u001b[43m\t\u001b[49m\u001b[33;43m'\u001b[39;49m\u001b[33;43mtransaction_id\u001b[39;49m\u001b[33;43m'\u001b[39;49m\u001b[43m \u001b[49m\u001b[43m:\u001b[49m\u001b[43m \u001b[49m\u001b[43m{\u001b[49m\n\u001b[32m      9\u001b[39m \u001b[43m\t\t\u001b[49m\u001b[33;43m'\u001b[39;49m\u001b[33;43mcard_txns\u001b[39;49m\u001b[33;43m'\u001b[39;49m\u001b[43m:\u001b[49m\u001b[43m \u001b[49m\u001b[38;5;28;43;01mlambda\u001b[39;49;00m\u001b[43m \u001b[49m\u001b[43mx\u001b[49m\u001b[43m:\u001b[49m\u001b[43m \u001b[49m\u001b[38;5;28;43mlen\u001b[39;49m\u001b[43m(\u001b[49m\u001b[43mx\u001b[49m\u001b[43m[\u001b[49m\u001b[43mcard_txns_mask\u001b[49m\u001b[43m]\u001b[49m\u001b[43m)\u001b[49m\u001b[43m,\u001b[49m\n\u001b[32m     10\u001b[39m \u001b[43m\t\t\u001b[49m\u001b[33;43m'\u001b[39;49m\u001b[33;43mrefund_txns\u001b[39;49m\u001b[33;43m'\u001b[39;49m\u001b[43m:\u001b[49m\u001b[43m \u001b[49m\u001b[38;5;28;43;01mlambda\u001b[39;49;00m\u001b[43m \u001b[49m\u001b[43mx\u001b[49m\u001b[43m:\u001b[49m\u001b[43m \u001b[49m\u001b[38;5;28;43mlen\u001b[39;49m\u001b[43m(\u001b[49m\u001b[43mx\u001b[49m\u001b[43m[\u001b[49m\u001b[43mrefund_mask\u001b[49m\u001b[43m]\u001b[49m\u001b[43m)\u001b[49m\n\u001b[32m     11\u001b[39m \u001b[43m\t\u001b[49m\u001b[43m}\u001b[49m\u001b[43m,\u001b[49m\n\u001b[32m     12\u001b[39m \u001b[43m\t\u001b[49m\u001b[33;43m'\u001b[39;49m\u001b[33;43mamount\u001b[39;49m\u001b[33;43m'\u001b[39;49m\u001b[43m:\u001b[49m\u001b[43m \u001b[49m\u001b[43m{\u001b[49m\n\u001b[32m     13\u001b[39m \u001b[43m\t\t\u001b[49m\u001b[33;43m'\u001b[39;49m\u001b[33;43mcard_amount\u001b[39;49m\u001b[33;43m'\u001b[39;49m\u001b[43m:\u001b[49m\u001b[43m \u001b[49m\u001b[38;5;28;43;01mlambda\u001b[39;49;00m\u001b[43m \u001b[49m\u001b[43mx\u001b[49m\u001b[43m:\u001b[49m\u001b[43m \u001b[49m\u001b[38;5;28;43mabs\u001b[39;49m\u001b[43m(\u001b[49m\u001b[43mx\u001b[49m\u001b[43m[\u001b[49m\u001b[43mcard_txns_mask\u001b[49m\u001b[43m]\u001b[49m\u001b[43m.\u001b[49m\u001b[43msum\u001b[49m\u001b[43m(\u001b[49m\u001b[43m)\u001b[49m\u001b[43m)\u001b[49m\u001b[43m,\u001b[49m\n\u001b[32m     14\u001b[39m \u001b[43m\t\t\u001b[49m\u001b[33;43m'\u001b[39;49m\u001b[33;43mrefund_amount\u001b[39;49m\u001b[33;43m'\u001b[39;49m\u001b[43m:\u001b[49m\u001b[43m \u001b[49m\u001b[38;5;28;43;01mlambda\u001b[39;49;00m\u001b[43m \u001b[49m\u001b[43mx\u001b[49m\u001b[43m:\u001b[49m\u001b[43m \u001b[49m\u001b[38;5;28;43mabs\u001b[39;49m\u001b[43m(\u001b[49m\u001b[43mx\u001b[49m\u001b[43m[\u001b[49m\u001b[43mrefund_mask\u001b[49m\u001b[43m]\u001b[49m\u001b[43m.\u001b[49m\u001b[43msum\u001b[49m\u001b[43m(\u001b[49m\u001b[43m)\u001b[49m\u001b[43m)\u001b[49m\n\u001b[32m     15\u001b[39m \u001b[43m\t\u001b[49m\u001b[43m}\u001b[49m\n\u001b[32m     16\u001b[39m \u001b[43m}\u001b[49m\u001b[43m)\u001b[49m\n",
            "\u001b[36mFile \u001b[39m\u001b[32m~/Documents/Documents/Projects/PersonalProjects/banking_analytics/.venv/lib/python3.13/site-packages/pandas/core/groupby/generic.py:1432\u001b[39m, in \u001b[36mDataFrameGroupBy.aggregate\u001b[39m\u001b[34m(self, func, engine, engine_kwargs, *args, **kwargs)\u001b[39m\n\u001b[32m   1429\u001b[39m     kwargs[\u001b[33m\"\u001b[39m\u001b[33mengine_kwargs\u001b[39m\u001b[33m\"\u001b[39m] = engine_kwargs\n\u001b[32m   1431\u001b[39m op = GroupByApply(\u001b[38;5;28mself\u001b[39m, func, args=args, kwargs=kwargs)\n\u001b[32m-> \u001b[39m\u001b[32m1432\u001b[39m result = \u001b[43mop\u001b[49m\u001b[43m.\u001b[49m\u001b[43magg\u001b[49m\u001b[43m(\u001b[49m\u001b[43m)\u001b[49m\n\u001b[32m   1433\u001b[39m \u001b[38;5;28;01mif\u001b[39;00m \u001b[38;5;129;01mnot\u001b[39;00m is_dict_like(func) \u001b[38;5;129;01mand\u001b[39;00m result \u001b[38;5;129;01mis\u001b[39;00m \u001b[38;5;129;01mnot\u001b[39;00m \u001b[38;5;28;01mNone\u001b[39;00m:\n\u001b[32m   1434\u001b[39m     \u001b[38;5;66;03m# GH #52849\u001b[39;00m\n\u001b[32m   1435\u001b[39m     \u001b[38;5;28;01mif\u001b[39;00m \u001b[38;5;129;01mnot\u001b[39;00m \u001b[38;5;28mself\u001b[39m.as_index \u001b[38;5;129;01mand\u001b[39;00m is_list_like(func):\n",
            "\u001b[36mFile \u001b[39m\u001b[32m~/Documents/Documents/Projects/PersonalProjects/banking_analytics/.venv/lib/python3.13/site-packages/pandas/core/apply.py:190\u001b[39m, in \u001b[36mApply.agg\u001b[39m\u001b[34m(self)\u001b[39m\n\u001b[32m    187\u001b[39m     \u001b[38;5;28;01mreturn\u001b[39;00m \u001b[38;5;28mself\u001b[39m.apply_str()\n\u001b[32m    189\u001b[39m \u001b[38;5;28;01mif\u001b[39;00m is_dict_like(func):\n\u001b[32m--> \u001b[39m\u001b[32m190\u001b[39m     \u001b[38;5;28;01mreturn\u001b[39;00m \u001b[38;5;28;43mself\u001b[39;49m\u001b[43m.\u001b[49m\u001b[43magg_dict_like\u001b[49m\u001b[43m(\u001b[49m\u001b[43m)\u001b[49m\n\u001b[32m    191\u001b[39m \u001b[38;5;28;01melif\u001b[39;00m is_list_like(func):\n\u001b[32m    192\u001b[39m     \u001b[38;5;66;03m# we require a list, but not a 'str'\u001b[39;00m\n\u001b[32m    193\u001b[39m     \u001b[38;5;28;01mreturn\u001b[39;00m \u001b[38;5;28mself\u001b[39m.agg_list_like()\n",
            "\u001b[36mFile \u001b[39m\u001b[32m~/Documents/Documents/Projects/PersonalProjects/banking_analytics/.venv/lib/python3.13/site-packages/pandas/core/apply.py:423\u001b[39m, in \u001b[36mApply.agg_dict_like\u001b[39m\u001b[34m(self)\u001b[39m\n\u001b[32m    415\u001b[39m \u001b[38;5;28;01mdef\u001b[39;00m\u001b[38;5;250m \u001b[39m\u001b[34magg_dict_like\u001b[39m(\u001b[38;5;28mself\u001b[39m) -> DataFrame | Series:\n\u001b[32m    416\u001b[39m \u001b[38;5;250m    \u001b[39m\u001b[33;03m\"\"\"\u001b[39;00m\n\u001b[32m    417\u001b[39m \u001b[33;03m    Compute aggregation in the case of a dict-like argument.\u001b[39;00m\n\u001b[32m    418\u001b[39m \n\u001b[32m   (...)\u001b[39m\u001b[32m    421\u001b[39m \u001b[33;03m    Result of aggregation.\u001b[39;00m\n\u001b[32m    422\u001b[39m \u001b[33;03m    \"\"\"\u001b[39;00m\n\u001b[32m--> \u001b[39m\u001b[32m423\u001b[39m     \u001b[38;5;28;01mreturn\u001b[39;00m \u001b[38;5;28;43mself\u001b[39;49m\u001b[43m.\u001b[49m\u001b[43magg_or_apply_dict_like\u001b[49m\u001b[43m(\u001b[49m\u001b[43mop_name\u001b[49m\u001b[43m=\u001b[49m\u001b[33;43m\"\u001b[39;49m\u001b[33;43magg\u001b[39;49m\u001b[33;43m\"\u001b[39;49m\u001b[43m)\u001b[49m\n",
            "\u001b[36mFile \u001b[39m\u001b[32m~/Documents/Documents/Projects/PersonalProjects/banking_analytics/.venv/lib/python3.13/site-packages/pandas/core/apply.py:1603\u001b[39m, in \u001b[36mGroupByApply.agg_or_apply_dict_like\u001b[39m\u001b[34m(self, op_name)\u001b[39m\n\u001b[32m   1598\u001b[39m     kwargs.update({\u001b[33m\"\u001b[39m\u001b[33mengine\u001b[39m\u001b[33m\"\u001b[39m: engine, \u001b[33m\"\u001b[39m\u001b[33mengine_kwargs\u001b[39m\u001b[33m\"\u001b[39m: engine_kwargs})\n\u001b[32m   1600\u001b[39m \u001b[38;5;28;01mwith\u001b[39;00m com.temp_setattr(\n\u001b[32m   1601\u001b[39m     obj, \u001b[33m\"\u001b[39m\u001b[33mas_index\u001b[39m\u001b[33m\"\u001b[39m, \u001b[38;5;28;01mTrue\u001b[39;00m, condition=\u001b[38;5;28mhasattr\u001b[39m(obj, \u001b[33m\"\u001b[39m\u001b[33mas_index\u001b[39m\u001b[33m\"\u001b[39m)\n\u001b[32m   1602\u001b[39m ):\n\u001b[32m-> \u001b[39m\u001b[32m1603\u001b[39m     result_index, result_data = \u001b[38;5;28;43mself\u001b[39;49m\u001b[43m.\u001b[49m\u001b[43mcompute_dict_like\u001b[49m\u001b[43m(\u001b[49m\n\u001b[32m   1604\u001b[39m \u001b[43m        \u001b[49m\u001b[43mop_name\u001b[49m\u001b[43m,\u001b[49m\u001b[43m \u001b[49m\u001b[43mselected_obj\u001b[49m\u001b[43m,\u001b[49m\u001b[43m \u001b[49m\u001b[43mselection\u001b[49m\u001b[43m,\u001b[49m\u001b[43m \u001b[49m\u001b[43mkwargs\u001b[49m\n\u001b[32m   1605\u001b[39m \u001b[43m    \u001b[49m\u001b[43m)\u001b[49m\n\u001b[32m   1606\u001b[39m result = \u001b[38;5;28mself\u001b[39m.wrap_results_dict_like(selected_obj, result_index, result_data)\n\u001b[32m   1607\u001b[39m \u001b[38;5;28;01mreturn\u001b[39;00m result\n",
            "\u001b[36mFile \u001b[39m\u001b[32m~/Documents/Documents/Projects/PersonalProjects/banking_analytics/.venv/lib/python3.13/site-packages/pandas/core/apply.py:462\u001b[39m, in \u001b[36mApply.compute_dict_like\u001b[39m\u001b[34m(self, op_name, selected_obj, selection, kwargs)\u001b[39m\n\u001b[32m    460\u001b[39m is_groupby = \u001b[38;5;28misinstance\u001b[39m(obj, (DataFrameGroupBy, SeriesGroupBy))\n\u001b[32m    461\u001b[39m func = cast(AggFuncTypeDict, \u001b[38;5;28mself\u001b[39m.func)\n\u001b[32m--> \u001b[39m\u001b[32m462\u001b[39m func = \u001b[38;5;28;43mself\u001b[39;49m\u001b[43m.\u001b[49m\u001b[43mnormalize_dictlike_arg\u001b[49m\u001b[43m(\u001b[49m\u001b[43mop_name\u001b[49m\u001b[43m,\u001b[49m\u001b[43m \u001b[49m\u001b[43mselected_obj\u001b[49m\u001b[43m,\u001b[49m\u001b[43m \u001b[49m\u001b[43mfunc\u001b[49m\u001b[43m)\u001b[49m\n\u001b[32m    464\u001b[39m is_non_unique_col = (\n\u001b[32m    465\u001b[39m     selected_obj.ndim == \u001b[32m2\u001b[39m\n\u001b[32m    466\u001b[39m     \u001b[38;5;129;01mand\u001b[39;00m selected_obj.columns.nunique() < \u001b[38;5;28mlen\u001b[39m(selected_obj.columns)\n\u001b[32m    467\u001b[39m )\n\u001b[32m    469\u001b[39m \u001b[38;5;28;01mif\u001b[39;00m selected_obj.ndim == \u001b[32m1\u001b[39m:\n\u001b[32m    470\u001b[39m     \u001b[38;5;66;03m# key only used for output\u001b[39;00m\n",
            "\u001b[36mFile \u001b[39m\u001b[32m~/Documents/Documents/Projects/PersonalProjects/banking_analytics/.venv/lib/python3.13/site-packages/pandas/core/apply.py:655\u001b[39m, in \u001b[36mApply.normalize_dictlike_arg\u001b[39m\u001b[34m(self, how, obj, func)\u001b[39m\n\u001b[32m    648\u001b[39m \u001b[38;5;66;03m# Can't use func.values(); wouldn't work for a Series\u001b[39;00m\n\u001b[32m    649\u001b[39m \u001b[38;5;28;01mif\u001b[39;00m (\n\u001b[32m    650\u001b[39m     how == \u001b[33m\"\u001b[39m\u001b[33magg\u001b[39m\u001b[33m\"\u001b[39m\n\u001b[32m    651\u001b[39m     \u001b[38;5;129;01mand\u001b[39;00m \u001b[38;5;28misinstance\u001b[39m(obj, ABCSeries)\n\u001b[32m    652\u001b[39m     \u001b[38;5;129;01mand\u001b[39;00m \u001b[38;5;28many\u001b[39m(is_list_like(v) \u001b[38;5;28;01mfor\u001b[39;00m _, v \u001b[38;5;129;01min\u001b[39;00m func.items())\n\u001b[32m    653\u001b[39m ) \u001b[38;5;129;01mor\u001b[39;00m (\u001b[38;5;28many\u001b[39m(is_dict_like(v) \u001b[38;5;28;01mfor\u001b[39;00m _, v \u001b[38;5;129;01min\u001b[39;00m func.items())):\n\u001b[32m    654\u001b[39m     \u001b[38;5;66;03m# GH 15931 - deprecation of renaming keys\u001b[39;00m\n\u001b[32m--> \u001b[39m\u001b[32m655\u001b[39m     \u001b[38;5;28;01mraise\u001b[39;00m SpecificationError(\u001b[33m\"\u001b[39m\u001b[33mnested renamer is not supported\u001b[39m\u001b[33m\"\u001b[39m)\n\u001b[32m    657\u001b[39m \u001b[38;5;28;01mif\u001b[39;00m obj.ndim != \u001b[32m1\u001b[39m:\n\u001b[32m    658\u001b[39m     \u001b[38;5;66;03m# Check for missing columns on a frame\u001b[39;00m\n\u001b[32m    659\u001b[39m     \u001b[38;5;28;01mfrom\u001b[39;00m\u001b[38;5;250m \u001b[39m\u001b[34;01mpandas\u001b[39;00m\u001b[38;5;250m \u001b[39m\u001b[38;5;28;01mimport\u001b[39;00m Index\n",
            "\u001b[31mSpecificationError\u001b[39m: nested renamer is not supported"
          ]
        }
      ],
      "source": [
        "# 4) Refund analysis\n",
        "# Filter relevant transactions (POS, Online) and Refunds\n",
        "card_txns_mask = txn_full['category'].isin(['POS', 'Online'])\n",
        "refund_mask = txn_full['category'] == 'Refund'\n",
        "\n",
        "# Monthly stats\n",
        "monthly_refund_stats = txn_full.groupby(pd.Grouper(key = 'txn_date', freq = 'ME')).agg\n"
      ]
    },
    {
      "cell_type": "markdown",
      "id": "bfe35551",
      "metadata": {},
      "source": [
        "## B) Visuals\n",
        "Create and save 3–4 simple charts (matplotlib): revenue by region×loyalty, churn by tenure bucket, and chargeback rate trend, regional breakdown of top customers, average transaction sizes between groups\n"
      ]
    },
    {
      "cell_type": "code",
      "execution_count": null,
      "id": "cc320ae2",
      "metadata": {},
      "outputs": [],
      "source": [
        "import matplotlib.pyplot as plt\n",
        "\n",
        "# Revenue by loyalty & region\n",
        "\n"
      ]
    },
    {
      "cell_type": "markdown",
      "id": "12e429b8",
      "metadata": {},
      "source": [
        "## C) Write-up\n",
        "Draft a 200–300 word exec summary with 3 prioritised actions and expected impact.\n"
      ]
    }
  ],
  "metadata": {
    "kernelspec": {
      "display_name": ".venv",
      "language": "python",
      "name": "python3"
    },
    "language_info": {
      "codemirror_mode": {
        "name": "ipython",
        "version": 3
      },
      "file_extension": ".py",
      "mimetype": "text/x-python",
      "name": "python",
      "nbconvert_exporter": "python",
      "pygments_lexer": "ipython3",
      "version": "3.13.2"
    }
  },
  "nbformat": 4,
  "nbformat_minor": 5
}
