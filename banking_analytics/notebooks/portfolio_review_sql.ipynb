{
 "cells": [
  {
   "cell_type": "markdown",
   "metadata": {},
   "source": [
    "# Portfolio Review (90 Days) – Starter Notebook\n",
    "\n",
    "**Goal:** Assess revenue, loyalty, and risk signals by region/segment. Prepare 3–4 charts and a 200–300 word summary."
   ]
  },
  {
   "cell_type": "code",
   "execution_count": null,
   "metadata": {},
   "outputs": [],
   "source": [
    "# First cell - Setup\n",
    "import sqlite3\n",
    "from datetime import datetime, timedelta\n",
    "\n",
    "# Load SQL magic extension\n",
    "%load_ext sql\n",
    "\n",
    "# Connect to database\n",
    "%sql sqlite:///banking.db"
   ]
  },
  {
   "cell_type": "code",
   "execution_count": null,
   "metadata": {},
   "outputs": [],
   "source": [
    "%%sql\n",
    "SELECT name, type \n",
    "FROM sqlite_master \n",
    "WHERE type='table' \n",
    "    AND name NOT LIKE 'sqlite_%';"
   ]
  },
  {
   "cell_type": "markdown",
   "metadata": {},
   "source": [
    "## A) KPIs & Definitions\n",
    "1) Revenue last 90 days by region/segment.  \n",
    "2) Active customers (≥1 txn last 30d); Loyal (tenure ≥365d).  \n",
    "3) Top 10% customers by value.  \n",
    "4) Chargeback rate & trend.  \n",
    "5) Avg monthly ending balance.\n"
   ]
  },
  {
   "cell_type": "code",
   "execution_count": null,
   "metadata": {},
   "outputs": [],
   "source": [
    "# 1) Revenue last 90 days\n"
   ]
  },
  {
   "cell_type": "code",
   "execution_count": null,
   "metadata": {},
   "outputs": [],
   "source": [
    "# 2) Active & Loyal flags\n"
   ]
  },
  {
   "cell_type": "code",
   "execution_count": null,
   "metadata": {},
   "outputs": [],
   "source": [
    "# 3) Top 10% customers by value (90d)\n"
   ]
  },
  {
   "cell_type": "code",
   "execution_count": null,
   "metadata": {},
   "outputs": [],
   "source": [
    "# 4) Chargeback rate (cards only)"
   ]
  },
  {
   "cell_type": "markdown",
   "metadata": {},
   "source": [
    "## B) Visuals\n",
    "Create and save 3–4 simple charts (matplotlib): revenue by region×loyalty, churn by tenure bucket, and chargeback rate trend.\n"
   ]
  },
  {
   "cell_type": "code",
   "execution_count": null,
   "metadata": {},
   "outputs": [],
   "source": [
    "import matplotlib.pyplot as plt\n",
    "\n",
    "# Revenue by loyalty & region\n",
    "\n"
   ]
  },
  {
   "cell_type": "markdown",
   "metadata": {},
   "source": [
    "## C) Write-up\n",
    "Draft a 200–300 word exec summary with 3 prioritised actions and expected impact.\n"
   ]
  }
 ],
 "metadata": {
  "kernelspec": {
   "display_name": ".venv",
   "language": "python",
   "name": "python3"
  },
  "language_info": {
   "codemirror_mode": {
    "name": "ipython",
    "version": 3
   },
   "file_extension": ".py",
   "mimetype": "text/x-python",
   "name": "python",
   "nbconvert_exporter": "python",
   "pygments_lexer": "ipython3",
   "version": "3.13.2"
  }
 },
 "nbformat": 4,
 "nbformat_minor": 2
}
